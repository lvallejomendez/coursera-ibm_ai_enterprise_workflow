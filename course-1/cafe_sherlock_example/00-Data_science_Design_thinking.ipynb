{
 "cells": [
  {
   "cell_type": "markdown",
   "id": "2dd43ab9-4a02-43d1-a003-c57735e5fd74",
   "metadata": {
    "tags": []
   },
   "source": [
    "## **Café Sherlock**\n",
    "### Empathize Stage\n",
    "*In this stage time is dedicated to understanding the business opportunities.*"
   ]
  },
  {
   "cell_type": "code",
   "execution_count": 1,
   "id": "02e3fc3e-7e77-40d1-9a8c-267c4b895aea",
   "metadata": {},
   "outputs": [],
   "source": [
    "import os\n",
    "import re\n",
    "import requests\n",
    "import pandas as pd\n",
    "import numpy as np\n",
    "import matplotlib.pyplot as plt"
   ]
  },
  {
   "cell_type": "markdown",
   "id": "01905c78-8ccf-4a8f-be75-c82cc4363f18",
   "metadata": {},
   "source": [
    "```python\n",
    "import requests\n",
    "text = requests.get('https://www.gutenberg.org/files/1661/1661-0.txt').text\n",
    "\n",
    "with open(\"sherlock-holmes.txt\", \"w\") as text_file:\n",
    "    text_file.write(text)\n",
    "```"
   ]
  },
  {
   "cell_type": "markdown",
   "id": "d4dd510d-86e5-4cce-b170-eb602b4a5b0f",
   "metadata": {},
   "source": [
    "### Define Stage\n",
    "*This is the data wrangling stage*"
   ]
  },
  {
   "cell_type": "code",
   "execution_count": 2,
   "id": "0701daf7-db82-4785-a56a-d5373017bdb1",
   "metadata": {},
   "outputs": [],
   "source": [
    "text = open('sherlock-holmes.txt', 'r').read()"
   ]
  },
  {
   "cell_type": "code",
   "execution_count": 3,
   "id": "a5a47fef-4a58-4e29-af30-e0824ddb539f",
   "metadata": {},
   "outputs": [],
   "source": [
    "stop_pattern = '\\.|\\?|\\!'\n",
    "sentences = re.split(stop_pattern, text)\n",
    "sentences = [re.sub(\"\\r|\\n\",\" \",s.lower()) for s in sentences]"
   ]
  },
  {
   "cell_type": "code",
   "execution_count": 4,
   "id": "43e7a143-8caf-4c0f-ac60-490ea3a1b4a2",
   "metadata": {},
   "outputs": [
    {
     "data": {
      "text/html": [
       "<div>\n",
       "<style scoped>\n",
       "    .dataframe tbody tr th:only-of-type {\n",
       "        vertical-align: middle;\n",
       "    }\n",
       "\n",
       "    .dataframe tbody tr th {\n",
       "        vertical-align: top;\n",
       "    }\n",
       "\n",
       "    .dataframe thead th {\n",
       "        text-align: right;\n",
       "    }\n",
       "</style>\n",
       "<table border=\"1\" class=\"dataframe\">\n",
       "  <thead>\n",
       "    <tr style=\"text-align: right;\">\n",
       "      <th></th>\n",
       "      <th>has_sherlock</th>\n",
       "      <th>has_watson</th>\n",
       "    </tr>\n",
       "  </thead>\n",
       "  <tbody>\n",
       "    <tr>\n",
       "      <th>0</th>\n",
       "      <td>True</td>\n",
       "      <td>False</td>\n",
       "    </tr>\n",
       "    <tr>\n",
       "      <th>1</th>\n",
       "      <td>False</td>\n",
       "      <td>False</td>\n",
       "    </tr>\n",
       "    <tr>\n",
       "      <th>2</th>\n",
       "      <td>False</td>\n",
       "      <td>False</td>\n",
       "    </tr>\n",
       "    <tr>\n",
       "      <th>3</th>\n",
       "      <td>False</td>\n",
       "      <td>False</td>\n",
       "    </tr>\n",
       "    <tr>\n",
       "      <th>4</th>\n",
       "      <td>False</td>\n",
       "      <td>False</td>\n",
       "    </tr>\n",
       "  </tbody>\n",
       "</table>\n",
       "</div>"
      ],
      "text/plain": [
       "   has_sherlock  has_watson\n",
       "0          True       False\n",
       "1         False       False\n",
       "2         False       False\n",
       "3         False       False\n",
       "4         False       False"
      ]
     },
     "execution_count": 4,
     "metadata": {},
     "output_type": "execute_result"
    }
   ],
   "source": [
    "df = pd.read_csv('sherlock-holmes-annotations.csv')\n",
    "df.head()"
   ]
  },
  {
   "cell_type": "code",
   "execution_count": 5,
   "id": "dc7f05f7-92f5-4718-a38f-906da398c600",
   "metadata": {},
   "outputs": [
    {
     "data": {
      "text/html": [
       "<div>\n",
       "<style scoped>\n",
       "    .dataframe tbody tr th:only-of-type {\n",
       "        vertical-align: middle;\n",
       "    }\n",
       "\n",
       "    .dataframe tbody tr th {\n",
       "        vertical-align: top;\n",
       "    }\n",
       "\n",
       "    .dataframe thead th {\n",
       "        text-align: right;\n",
       "    }\n",
       "</style>\n",
       "<table border=\"1\" class=\"dataframe\">\n",
       "  <thead>\n",
       "    <tr style=\"text-align: right;\">\n",
       "      <th></th>\n",
       "      <th>has_sherlock</th>\n",
       "      <th>has_watson</th>\n",
       "      <th>text</th>\n",
       "    </tr>\n",
       "  </thead>\n",
       "  <tbody>\n",
       "    <tr>\n",
       "      <th>0</th>\n",
       "      <td>True</td>\n",
       "      <td>False</td>\n",
       "      <td>ï»¿ project gutenberg's the adventures of sher...</td>\n",
       "    </tr>\n",
       "    <tr>\n",
       "      <th>1</th>\n",
       "      <td>False</td>\n",
       "      <td>False</td>\n",
       "      <td>you may copy it, give it away or re-use it u...</td>\n",
       "    </tr>\n",
       "    <tr>\n",
       "      <th>2</th>\n",
       "      <td>False</td>\n",
       "      <td>False</td>\n",
       "      <td>gutenberg</td>\n",
       "    </tr>\n",
       "    <tr>\n",
       "      <th>3</th>\n",
       "      <td>False</td>\n",
       "      <td>False</td>\n",
       "      <td>net   title: the adventures of sherlock holmes...</td>\n",
       "    </tr>\n",
       "    <tr>\n",
       "      <th>4</th>\n",
       "      <td>False</td>\n",
       "      <td>False</td>\n",
       "      <td>a scandal in bohemia    ii</td>\n",
       "    </tr>\n",
       "  </tbody>\n",
       "</table>\n",
       "</div>"
      ],
      "text/plain": [
       "   has_sherlock  has_watson                                               text\n",
       "0          True       False  ï»¿ project gutenberg's the adventures of sher...\n",
       "1         False       False    you may copy it, give it away or re-use it u...\n",
       "2         False       False                                          gutenberg\n",
       "3         False       False  net   title: the adventures of sherlock holmes...\n",
       "4         False       False                         a scandal in bohemia    ii"
      ]
     },
     "execution_count": 5,
     "metadata": {},
     "output_type": "execute_result"
    }
   ],
   "source": [
    "df['text'] = sentences\n",
    "df.head()"
   ]
  },
  {
   "cell_type": "markdown",
   "id": "100d3e9d-d83a-4b84-8834-0f3ae70e2a06",
   "metadata": {},
   "source": [
    "*It can be a valuable exercise to write down the ideal rows and columns before you begin the cleaning process. This way the managers, decision makers and other stakeholders have insight into how they might improve the data collection process.*"
   ]
  },
  {
   "cell_type": "markdown",
   "id": "3c63cb43-0572-419c-99db-2b3ccc2d979f",
   "metadata": {},
   "source": [
    "Sometimes we need to perform a little EDA in order to determine how to best clean the data so these two steps are not necessarily mutually exclusive. Visualization, basic hypothesis testing and simple feature engineering are among the most important tasks for EDA at this stage. An minimal example of a EDA plot is one where we look at the average number of words per sentence for the name mentions.  "
   ]
  },
  {
   "cell_type": "code",
   "execution_count": 6,
   "id": "ec0f4d46-4495-4365-bfea-840bda148d0f",
   "metadata": {},
   "outputs": [],
   "source": [
    "df['num_words'] = df['text'].apply(lambda x: len(x.split(\" \")))"
   ]
  },
  {
   "cell_type": "code",
   "execution_count": 7,
   "id": "6931d21d-4c23-42d4-93f9-0a67ad16d6d9",
   "metadata": {},
   "outputs": [
    {
     "data": {
      "image/png": "[encoded data removed]",
      "text/plain": [
       "<Figure size 576x576 with 1 Axes>"
      ]
     },
     "metadata": {
      "needs_background": "light"
     },
     "output_type": "display_data"
    }
   ],
   "source": [
    "## make eda plot\n",
    "fig = plt.figure(figsize=(8,8))\n",
    "ax1 = fig.add_subplot(111)\n",
    "\n",
    "data1 = df[df['has_sherlock']==True]\n",
    "data2 = df[df['has_watson']==True]\n",
    "\n",
    "data = [df[df[col]==True]['num_words'].values for col in ['has_sherlock','has_watson']]\n",
    "\n",
    "pos = [1,2]\n",
    "ax1.violinplot(data, pos, points=40, widths=0.5,showextrema=True, showmedians=True)\n",
    "\n",
    "labels = ['Sherlock', 'Watson']\n",
    "ax1.set_xticks(np.arange(1, len(labels) + 1))\n",
    "ax1.set_xticklabels(labels)\n",
    "ax1.set_xlim(0.25, len(labels) + 0.75)\n",
    "ax1.set_xlabel('Feature')\n",
    "ax1.set_ylabel('# Words')\n",
    "ax1.set_title(\"Words per sentence\")\n",
    "\n",
    "plt.show()"
   ]
  },
  {
   "cell_type": "markdown",
   "id": "77929291-6d8a-494e-b01a-73e8b1562eba",
   "metadata": {},
   "source": [
    "### Ideate Stage\n",
    "*This is the stage where we modify our data and our features*"
   ]
  },
  {
   "cell_type": "code",
   "execution_count": 8,
   "id": "fd58ac98-d91f-4100-a799-adb564657e1e",
   "metadata": {},
   "outputs": [],
   "source": [
    "from sklearn.feature_extraction.text import CountVectorizer\n",
    "from sklearn.feature_extraction.text import TfidfTransformer\n",
    "from sklearn.pipeline import Pipeline\n",
    "\n",
    "# extract the data to be used in the model from the df\n",
    "labels = np.zeros(df.shape[0])\n",
    "labels[(df['has_sherlock'] == True)] = 1\n",
    "labels[(df['has_watson'] == True)] = 2\n",
    "df['labels'] = labels\n",
    "df = df[df['labels']!=0]\n",
    "X = df['text'].values\n",
    "y = df['labels'].values"
   ]
  },
  {
   "cell_type": "code",
   "execution_count": null,
   "id": "29f10db4-61ce-48f2-87cf-826c897a3eb7",
   "metadata": {},
   "outputs": [],
   "source": []
  },
  {
   "cell_type": "markdown",
   "id": "9e831df9-e290-4771-bf60-1bdbf6816695",
   "metadata": {},
   "source": [
    "### Prototype Stage\n",
    "*This is the modeling stage*"
   ]
  },
  {
   "cell_type": "code",
   "execution_count": 9,
   "id": "a9354e64-4ca2-449f-9809-0f7ffff1f6b2",
   "metadata": {},
   "outputs": [
    {
     "data": {
      "text/plain": [
       "Pipeline(steps=[('vect', CountVectorizer()), ('tfidf', TfidfTransformer()),\n",
       "                ('clf',\n",
       "                 SGDClassifier(alpha=0.001, max_iter=5, random_state=42,\n",
       "                               tol=None))])"
      ]
     },
     "execution_count": 9,
     "metadata": {},
     "output_type": "execute_result"
    }
   ],
   "source": [
    "from sklearn.linear_model import SGDClassifier\n",
    "from sklearn.model_selection import train_test_split\n",
    "\n",
    "## carry out the train test split\n",
    "X_train, X_test, y_train, y_test = train_test_split(X, y, test_size=0.33, random_state=42)\n",
    "\n",
    "from sklearn.linear_model import SGDClassifier\n",
    "text_clf = Pipeline([\n",
    "    ('vect', CountVectorizer()),\n",
    "    ('tfidf', TfidfTransformer()),\n",
    "    ('clf', SGDClassifier(loss='hinge', penalty='l2',\n",
    "                        alpha=1e-3, random_state=42,\n",
    "                        max_iter=5, tol=None))\n",
    "])\n",
    "\n",
    "## train a model\n",
    "text_clf.fit(X_train, y_train)"
   ]
  },
  {
   "cell_type": "code",
   "execution_count": null,
   "id": "dc78096a-3834-4b30-8d01-82dd748b02e7",
   "metadata": {},
   "outputs": [],
   "source": []
  },
  {
   "cell_type": "markdown",
   "id": "05c4707b-df65-44b9-8c86-fa1d46cb337d",
   "metadata": {},
   "source": [
    "### Testing Stage\n",
    "*This is the production, testing and feedback loop stage*"
   ]
  },
  {
   "cell_type": "code",
   "execution_count": 10,
   "id": "3ddf3546-7638-4ea5-9723-125382368b55",
   "metadata": {},
   "outputs": [
    {
     "name": "stdout",
     "output_type": "stream",
     "text": [
      "              precision    recall  f1-score   support\n",
      "\n",
      "    sherlock       0.78      0.92      0.84       176\n",
      "      watson       0.18      0.06      0.09        50\n",
      "\n",
      "    accuracy                           0.73       226\n",
      "   macro avg       0.48      0.49      0.47       226\n",
      "weighted avg       0.64      0.73      0.68       226\n",
      "\n"
     ]
    }
   ],
   "source": [
    "from sklearn import metrics\n",
    "\n",
    "## evaluate the model performance\n",
    "predicted = text_clf.predict(X_test)\n",
    "\n",
    "print(metrics.classification_report(y_test, predicted,\n",
    "      target_names=['sherlock','watson']))"
   ]
  },
  {
   "cell_type": "code",
   "execution_count": null,
   "id": "7a759938-7bba-479d-b090-4eb9228f70eb",
   "metadata": {},
   "outputs": [],
   "source": []
  }
 ],
 "metadata": {
  "kernelspec": {
   "display_name": "d2l:Python",
   "language": "python",
   "name": "conda-env-d2l-py"
  },
  "language_info": {
   "codemirror_mode": {
    "name": "ipython",
    "version": 3
   },
   "file_extension": ".py",
   "mimetype": "text/x-python",
   "name": "python",
   "nbconvert_exporter": "python",
   "pygments_lexer": "ipython3",
   "version": "3.9.10"
  }
 },
 "nbformat": 4,
 "nbformat_minor": 5
}
