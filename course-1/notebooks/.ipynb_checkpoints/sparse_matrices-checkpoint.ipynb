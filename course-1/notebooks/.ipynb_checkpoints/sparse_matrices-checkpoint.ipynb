{
 "cells": [
  {
   "cell_type": "code",
   "execution_count": 1,
   "id": "ac26d1f7-c89e-41d0-b5ff-4994ab88c662",
   "metadata": {},
   "outputs": [],
   "source": [
    "import numpy as np\n",
    "from scipy import sparse"
   ]
  },
  {
   "cell_type": "markdown",
   "id": "d6d97dfd-2b8b-4253-b899-04d61645dbae",
   "metadata": {},
   "source": [
    "Sparse matrices offer a middle-ground between a comprehensive data warehouse solution with extensive test coverage and a directory of text files and database dumps. Sparse matrices do not work for all data types, but in situations where they are an appropriate technology you can leverage them even under load in production. Lets use an example to see how this process might play out.\n",
    "\n",
    "A sparse matrix is one in which most of the values are zero. If the number of zero-valued elements divided by the size of the matrix is greater than 0.5 then it is consider sparse."
   ]
  },
  {
   "cell_type": "code",
   "execution_count": 6,
   "id": "d92a016e-a3f1-4f5b-9264-867f507b6147",
   "metadata": {},
   "outputs": [
    {
     "name": "stdout",
     "output_type": "stream",
     "text": [
      "0.5031\n"
     ]
    }
   ],
   "source": [
    "A = np.random.randint(0,2,100000).reshape(100,1000)\n",
    "sparcity = 1.0 - (np.count_nonzero(A) / A.size)\n",
    "print(round(sparcity,4))"
   ]
  },
  {
   "cell_type": "markdown",
   "id": "9af45c22-037d-4013-90b3-a46df83d8722",
   "metadata": {},
   "source": [
    "### [coo_matrix](https://docs.scipy.org/doc/scipy/reference/generated/scipy.sparse.coo_matrix.html#scipy-sparse-coo-matrix)"
   ]
  },
  {
   "cell_type": "markdown",
   "id": "f558b665-3ef9-4913-985e-0113befa162a",
   "metadata": {},
   "source": [
    "sparse matrix built from the COOrdinates and values of the non-zero entries."
   ]
  },
  {
   "cell_type": "code",
   "execution_count": 7,
   "id": "2d12ffd6-5af4-4e3e-8429-6bdf1a1919d7",
   "metadata": {},
   "outputs": [
    {
     "name": "stdout",
     "output_type": "stream",
     "text": [
      "A <class 'numpy.ndarray'> (10, 100) \n",
      "B <class 'scipy.sparse._coo.coo_matrix'> (10, 100) \n",
      "C <class 'numpy.matrix'> (10, 100) \n",
      "\n"
     ]
    }
   ],
   "source": [
    "A = np.random.poisson(0.3, (10,100))\n",
    "B = sparse.coo_matrix(A)\n",
    "C = B.todense()\n",
    "\n",
    "print(\"A\",type(A),A.shape,\"\\n\"\n",
    "      \"B\",type(B),B.shape,\"\\n\"\n",
    "      \"C\",type(C),C.shape,\"\\n\")"
   ]
  },
  {
   "cell_type": "markdown",
   "id": "981d8ad6-093c-4e8e-9cc2-ca0607231610",
   "metadata": {},
   "source": [
    "### [csc_matrix](https://docs.scipy.org/doc/scipy/reference/generated/scipy.sparse.csc_matrix.html#scipy-sparse-csc-matrix)"
   ]
  },
  {
   "cell_type": "markdown",
   "id": "689f6ce8-9a7c-4754-b9cf-87629d00a254",
   "metadata": {
    "tags": []
   },
   "source": [
    "When there are repeated entries in the rows or cols, we can remove the redundancy by indicating the location of the first occurrence of a value and its increment instead of the full coordinates. When the repeats occur in colums we use a CSC format."
   ]
  },
  {
   "cell_type": "code",
   "execution_count": 8,
   "id": "0457779b-1871-4094-a8fa-7547498434a6",
   "metadata": {},
   "outputs": [],
   "source": [
    "A = np.random.poisson(0.3, (10,100))\n",
    "B = sparse.csc_matrix(A)"
   ]
  },
  {
   "cell_type": "markdown",
   "id": "9e515e61-3fdb-4462-b042-bd48a71616b6",
   "metadata": {},
   "source": [
    "### [csr_matrix](https://docs.scipy.org/doc/scipy/reference/generated/scipy.sparse.csr_matrix.html#scipy-sparse-csr-matrix)"
   ]
  },
  {
   "cell_type": "markdown",
   "id": "de44e322-3aa3-42a3-917e-02fdcfff39a6",
   "metadata": {},
   "source": [
    "Like the CSC format there is a CSR format to account for data that repeat along the rows"
   ]
  },
  {
   "cell_type": "code",
   "execution_count": 9,
   "id": "cf94f7c9-f1e3-4e21-a531-40040d6a1e0e",
   "metadata": {},
   "outputs": [],
   "source": [
    "A = np.random.poisson(0.3, (10,100))\n",
    "B = sparse.csr_matrix(A)"
   ]
  },
  {
   "cell_type": "markdown",
   "id": "1351be81-3e12-4214-b993-60f0df1d2792",
   "metadata": {},
   "source": [
    "Because the coordinate format is easier to create, it is common to create it first then cast to another more efficient format. Let us first show how to create a matrix from coordinates:"
   ]
  },
  {
   "cell_type": "code",
   "execution_count": 10,
   "id": "78276cc8-fdf3-480f-ae42-4272931ad2d2",
   "metadata": {},
   "outputs": [
    {
     "name": "stdout",
     "output_type": "stream",
     "text": [
      "[[0 1 0 0 0 0 0 0 0]\n",
      " [2 0 0 0 0 0 0 0 0]\n",
      " [0 0 0 0 1 0 0 0 0]\n",
      " [0 0 0 0 0 0 0 0 0]\n",
      " [0 0 0 0 0 0 0 0 0]\n",
      " [0 0 0 0 0 0 0 0 0]\n",
      " [0 0 0 0 0 0 0 0 0]\n",
      " [0 0 0 0 0 0 0 0 0]\n",
      " [0 0 0 0 0 0 0 0 4]]\n"
     ]
    }
   ],
   "source": [
    "rows = [0,1,2,8]\n",
    "cols = [1,0,4,8]\n",
    "vals = [1,2,1,4]\n",
    "\n",
    "A = sparse.coo_matrix((vals, (rows, cols)))\n",
    "print(A.todense())"
   ]
  },
  {
   "cell_type": "markdown",
   "id": "33378c0b-8a51-41c4-ae3c-aa69216a25ac",
   "metadata": {},
   "source": [
    "Then to cast it to a CSR matrix"
   ]
  },
  {
   "cell_type": "code",
   "execution_count": 11,
   "id": "02ea522c-48fe-493e-97a4-5c3f66363861",
   "metadata": {},
   "outputs": [],
   "source": [
    "B = A.tocsr()"
   ]
  },
  {
   "cell_type": "markdown",
   "id": "cebbb435-c165-49d7-a960-e44d34c79f3a",
   "metadata": {},
   "source": [
    "Because this introduction to sparse matrices is applied to data ingestion we would need to be able to:\n",
    "\n",
    "1. concatenate matrices (e.g., add a new user to a recommender matrix)\n",
    "\n",
    "2. read and write the matrices to and from disk"
   ]
  },
  {
   "cell_type": "code",
   "execution_count": 12,
   "id": "e2a187ae-e3db-4c14-9720-f6747234625a",
   "metadata": {},
   "outputs": [
    {
     "name": "stdout",
     "output_type": "stream",
     "text": [
      "(9, 9) (1, 9)\n",
      "[[0 1 0 0 0 0 0 0 0]\n",
      " [2 0 0 0 0 0 0 0 0]\n",
      " [0 0 0 0 1 0 0 0 0]\n",
      " [0 0 0 0 0 0 0 0 0]\n",
      " [0 0 0 0 0 0 0 0 0]\n",
      " [0 0 0 0 0 0 0 0 0]\n",
      " [0 0 0 0 0 0 0 0 0]\n",
      " [0 0 0 0 0 0 0 0 0]\n",
      " [0 0 0 0 0 0 0 0 4]\n",
      " [0 1 0 0 2 0 0 0 1]]\n"
     ]
    }
   ],
   "source": [
    "## matrix merge example\n",
    "C = sparse.csr_matrix(np.array([0,1,0,0,2,0,0,0,1]).reshape(1,9))\n",
    "print(B.shape,C.shape)\n",
    "D = sparse.vstack([B,C])\n",
    "print(D.todense())"
   ]
  },
  {
   "cell_type": "code",
   "execution_count": 13,
   "id": "bea906db-4404-4827-a6b9-94bcf4e8e035",
   "metadata": {},
   "outputs": [
    {
     "name": "stdout",
     "output_type": "stream",
     "text": [
      "(10, 9)\n"
     ]
    }
   ],
   "source": [
    "## read and write\n",
    "file_name = \"sparse_matrix.npz\"\n",
    "sparse.save_npz(file_name, D)\n",
    "E = sparse.load_npz(file_name)\n",
    "print(E.shape)"
   ]
  },
  {
   "cell_type": "code",
   "execution_count": null,
   "id": "215693d2-86bb-46df-9b98-3fa1e1b7d1ea",
   "metadata": {},
   "outputs": [],
   "source": []
  }
 ],
 "metadata": {
  "kernelspec": {
   "display_name": "d2l:Python",
   "language": "python",
   "name": "conda-env-d2l-py"
  },
  "language_info": {
   "codemirror_mode": {
    "name": "ipython",
    "version": 3
   },
   "file_extension": ".py",
   "mimetype": "text/x-python",
   "name": "python",
   "nbconvert_exporter": "python",
   "pygments_lexer": "ipython3",
   "version": "3.9.10"
  }
 },
 "nbformat": 4,
 "nbformat_minor": 5
}
